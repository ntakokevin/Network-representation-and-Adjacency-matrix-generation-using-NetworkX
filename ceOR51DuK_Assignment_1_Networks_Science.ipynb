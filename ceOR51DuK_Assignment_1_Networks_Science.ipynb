{
 "cells": [
  {
   "cell_type": "markdown",
   "id": "66563c2e",
   "metadata": {},
   "source": [
    "<h1> ceOR51DuK_Assignment_1_Networks_Science</h1>"
   ]
  },
  {
   "cell_type": "markdown",
   "id": "be013127",
   "metadata": {},
   "source": [
    "<img src='entete.png'>"
   ]
  },
  {
   "cell_type": "code",
   "execution_count": 1,
   "id": "5683d38e",
   "metadata": {},
   "outputs": [],
   "source": [
    "import networkx as nx #we import networkx to manipulate our networks\n",
    "import matplotlib.pyplot as plt  #we import matplotlib.pyplot to show some plot\n",
    "import numpy as np  # We import numpy for list and matrix manipulation"
   ]
  },
  {
   "cell_type": "code",
   "execution_count": 2,
   "id": "40f9e66f",
   "metadata": {},
   "outputs": [],
   "source": [
    "#We ignore some warning message\n",
    "import warnings\n",
    "warnings.simplefilter(action='ignore', category=FutureWarning) "
   ]
  },
  {
   "cell_type": "markdown",
   "id": "915ead89",
   "metadata": {},
   "source": [
    "<h1> Question 1 </h1>"
   ]
  },
  {
   "cell_type": "code",
   "execution_count": 3,
   "id": "9cf234ec",
   "metadata": {},
   "outputs": [],
   "source": [
    "#we create our graph and we call it G\n",
    "G=nx.Graph() \n",
    "#we create a list containig the labels of all the nodes of our graph\n",
    "nodes=[1,2,3,4,5,6]   \n",
    "#we create a list containing all the link between the nodes\n",
    "links=[(1,2),(1,3),(2,3),(2,6),(2,4),(4,6),(3,6),(3,5)]  \n",
    "#we define the position of nodes for ploting\n",
    "posit={1:(-0.6,1.5), 2:(-1.2,0.5), 3:(0.6,1), 4:(-1,-1), 5:(2,0), 6:(0,0)} "
   ]
  },
  {
   "cell_type": "code",
   "execution_count": 4,
   "id": "6a02a08f",
   "metadata": {},
   "outputs": [],
   "source": [
    "G.add_nodes_from(nodes) #we add all our node to the graph\n",
    "G.add_edges_from(links)  #we add all our link to the graph"
   ]
  },
  {
   "cell_type": "code",
   "execution_count": 5,
   "id": "b31f0cbd",
   "metadata": {},
   "outputs": [
    {
     "data": {
      "image/png": "[encoded data removed]",
      "text/plain": [
       "<Figure size 432x288 with 1 Axes>"
      ]
     },
     "metadata": {},
     "output_type": "display_data"
    }
   ],
   "source": [
    "#We can now plot our graph\n",
    "nx.draw(G, with_labels=True, pos=posit, node_size=1500,\\\n",
    "        linewidths=5,edgecolors='black', node_color='orange')"
   ]
  },
  {
   "cell_type": "code",
   "execution_count": 6,
   "id": "3e65e1d0",
   "metadata": {},
   "outputs": [
    {
     "data": {
      "text/plain": [
       "(6, 8)"
      ]
     },
     "execution_count": 6,
     "metadata": {},
     "output_type": "execute_result"
    }
   ],
   "source": [
    "#We check the number on nodes and links\n",
    "G.number_of_nodes(),G.number_of_edges()"
   ]
  },
  {
   "cell_type": "markdown",
   "id": "b88c04b9",
   "metadata": {},
   "source": [
    "<p> This graph has 6 nodes and 8 edges </p>"
   ]
  },
  {
   "cell_type": "markdown",
   "id": "76b95fc6",
   "metadata": {},
   "source": [
    "<h2> (a)The Corresponding adjency matrix A </h2>"
   ]
  },
  {
   "cell_type": "code",
   "execution_count": 7,
   "id": "c25420ea",
   "metadata": {},
   "outputs": [
    {
     "name": "stdout",
     "output_type": "stream",
     "text": [
      "[[0 1 1 0 0 0]\n",
      " [1 0 1 1 0 1]\n",
      " [1 1 0 0 1 1]\n",
      " [0 1 0 0 0 1]\n",
      " [0 0 1 0 0 0]\n",
      " [0 1 1 1 0 0]]\n"
     ]
    }
   ],
   "source": [
    "# We compute the adjency matrix\n",
    "A=nx.adjacency_matrix(G).todense()\n",
    "print(A)"
   ]
  },
  {
   "cell_type": "markdown",
   "id": "2e9aa8f9",
   "metadata": {},
   "source": [
    "<p>We can see that the adjency matrix of our graph is symetrics. This means that the graph is an undirected graph </p>"
   ]
  },
  {
   "cell_type": "markdown",
   "id": "aa785da4",
   "metadata": {},
   "source": [
    "<h2> (b) The corresponding links lists </h2>"
   ]
  },
  {
   "cell_type": "code",
   "execution_count": 8,
   "id": "b281e549",
   "metadata": {},
   "outputs": [
    {
     "name": "stdout",
     "output_type": "stream",
     "text": [
      "[(1, 2), (1, 3), (2, 3), (2, 6), (2, 4), (3, 6), (3, 5), (4, 6)]\n"
     ]
    }
   ],
   "source": [
    "#We print the lists of all the links of our graph\n",
    "print(G.edges())"
   ]
  },
  {
   "cell_type": "markdown",
   "id": "134f30ee",
   "metadata": {},
   "source": [
    "<h2> (c)The average  clustering coefficient of the network </h2>"
   ]
  },
  {
   "cell_type": "code",
   "execution_count": 9,
   "id": "e6d07a92",
   "metadata": {},
   "outputs": [
    {
     "data": {
      "text/plain": [
       "0.5833333333333333"
      ]
     },
     "execution_count": 9,
     "metadata": {},
     "output_type": "execute_result"
    }
   ],
   "source": [
    "c_mean= nx.average_clustering(G)\n",
    "c_mean"
   ]
  },
  {
   "cell_type": "markdown",
   "id": "2fffd124",
   "metadata": {},
   "source": [
    "<p>The average of the clustering coefficient of the nethwork is C=58.33%, this mean that there is 58.33% of chance that two neigbour of a given node are also connected. </p>"
   ]
  },
  {
   "cell_type": "markdown",
   "id": "c595c97e",
   "metadata": {},
   "source": [
    "## (d) If you switch the labels of nodes 5 and 6 in A, how does that move change the adjacency matrix? And the link list?"
   ]
  },
  {
   "cell_type": "code",
   "execution_count": 10,
   "id": "074cd545",
   "metadata": {
    "scrolled": true
   },
   "outputs": [
    {
     "name": "stdout",
     "output_type": "stream",
     "text": [
      "[[0 1 1 0 0 0]\n",
      " [1 0 1 1 1 0]\n",
      " [1 1 0 0 1 1]\n",
      " [0 1 0 0 1 0]\n",
      " [0 1 1 1 0 0]\n",
      " [0 0 1 0 0 0]]\n"
     ]
    }
   ],
   "source": [
    "#we create one another graph with the same edges than the first one\n",
    "G2=nx.Graph()  \n",
    "nodes2=[1,2,3,4,5,6]\n",
    "#we switch the node 5 and 6 when creating the link\n",
    "links2=[(1,2),(1,3),(2,3),(2,5),(2,4),(4,5),(3,5),(3,6)] \n",
    "#we add the node and link to the graph\n",
    "G2.add_nodes_from(nodes2) \n",
    "G2.add_edges_from(links2)\n",
    "#we compute the adjency matrix\n",
    "A2=nx.adjacency_matrix(G2).todense() \n",
    "print(A2)"
   ]
  },
  {
   "cell_type": "markdown",
   "id": "9f1df73f",
   "metadata": {},
   "source": [
    "<p> We can see that when we switch the label of node 5 and node 6 in G, there is a permutation of the lines 5 and 6 and also the column 5 and 6 in the adjency matrix </p>"
   ]
  },
  {
   "cell_type": "code",
   "execution_count": 11,
   "id": "b35f9917",
   "metadata": {},
   "outputs": [
    {
     "data": {
      "text/plain": [
       "EdgeView([(1, 2), (1, 3), (2, 3), (2, 5), (2, 4), (3, 5), (3, 6), (4, 5)])"
      ]
     },
     "execution_count": 11,
     "metadata": {},
     "output_type": "execute_result"
    }
   ],
   "source": [
    "G2.edges()"
   ]
  },
  {
   "cell_type": "markdown",
   "id": "c863c4e7",
   "metadata": {},
   "source": [
    "<p> we can see that the number of links is stil yhje same but all the edges which were connected to 6 are now connected to 5 and all those which were connected to 5 are now connected to 6.</p>"
   ]
  },
  {
   "cell_type": "markdown",
   "id": "03142923",
   "metadata": {},
   "source": [
    "## (e) What kind of information can you not infer from the link list representation of the network that you can infer from the adjacency matrix?"
   ]
  },
  {
   "cell_type": "markdown",
   "id": "1f021265",
   "metadata": {},
   "source": [
    "<p> From the adjency matrix we can infer if the graph is directed or not buy looking if the matrix is symetric but using the link list we can not infer that.</p> "
   ]
  },
  {
   "cell_type": "markdown",
   "id": "d5621d58",
   "metadata": {},
   "source": [
    "##  (f) How many paths (with possible repetition of nodes and links) of length 3 exist starting from node 1 and ending at node 3?"
   ]
  },
  {
   "cell_type": "code",
   "execution_count": 12,
   "id": "af919a7f",
   "metadata": {
    "scrolled": false
   },
   "outputs": [
    {
     "data": {
      "text/plain": [
       "matrix([[2, 6, 6, 3, 1, 3],\n",
       "        [6, 6, 8, 6, 2, 7],\n",
       "        [6, 8, 4, 3, 4, 8],\n",
       "        [3, 6, 3, 2, 2, 5],\n",
       "        [1, 2, 4, 2, 0, 1],\n",
       "        [3, 7, 8, 5, 1, 4]], dtype=int32)"
      ]
     },
     "execution_count": 12,
     "metadata": {},
     "output_type": "execute_result"
    }
   ],
   "source": [
    "A_3=A**3 \n",
    "A_3"
   ]
  },
  {
   "cell_type": "markdown",
   "id": "6801f2ce",
   "metadata": {},
   "source": [
    "<p> we compute the matrix $A^3$ which containt at each index $(i,j)$ the total nober of path of 3 going from a node $n_i$ to a node $n_j$ </p>\n",
    "\n",
    "<p> The number of paths of length 3 starting from node 1 and ending at node 3 is given by $A^3(1,3)$</p>"
   ]
  },
  {
   "cell_type": "code",
   "execution_count": 13,
   "id": "d74fbfd1",
   "metadata": {
    "scrolled": true
   },
   "outputs": [
    {
     "data": {
      "text/plain": [
       "6"
      ]
     },
     "execution_count": 13,
     "metadata": {},
     "output_type": "execute_result"
    }
   ],
   "source": [
    "A_3[1,3]"
   ]
  },
  {
   "cell_type": "markdown",
   "id": "7997667c",
   "metadata": {},
   "source": [
    "<p> So we have 6 paths of length 3 starting from node 1 and ending at node 3</p>"
   ]
  },
  {
   "cell_type": "markdown",
   "id": "c762b9f3",
   "metadata": {},
   "source": [
    "## (g) Count the number of cycles of length 4 in network."
   ]
  },
  {
   "cell_type": "markdown",
   "id": "3e855906",
   "metadata": {},
   "source": [
    "<p> The number of cycle of lengh 4 in the network is given by the formula $\\frac{1}{8}[Tr(A^4)-Tr(A^2)-2\\sum_{j\\neq i}^{} a_{ij}^{(2)}]$ </p>"
   ]
  },
  {
   "cell_type": "code",
   "execution_count": 14,
   "id": "34e52fc3",
   "metadata": {
    "scrolled": false
   },
   "outputs": [
    {
     "name": "stdout",
     "output_type": "stream",
     "text": [
      "[[12 14 12  9  6 15]\n",
      " [14 27 21 13  8 20]\n",
      " [12 21 26 16  4 15]\n",
      " [ 9 13 16 11  3 11]\n",
      " [ 6  8  4  3  4  8]\n",
      " [15 20 15 11  8 20]]\n"
     ]
    }
   ],
   "source": [
    "print(A**4)"
   ]
  },
  {
   "cell_type": "code",
   "execution_count": 15,
   "id": "9be587e2",
   "metadata": {
    "scrolled": true
   },
   "outputs": [
    {
     "data": {
      "text/plain": [
       "2.0"
      ]
     },
     "execution_count": 15,
     "metadata": {},
     "output_type": "execute_result"
    }
   ],
   "source": [
    "A2=A**2 #we compute the A^2 matrix\n",
    "A4=A**4 #we compute the A^4 matrix\n",
    "som=0  #We initialize the sum of link at 0\n",
    "for i in range(A2.shape[0]):\n",
    "    for j in range(A2.shape[0]):\n",
    "        if i!=j :\n",
    "            som=som+A2[i,j] #we compute the total number of link betwen all the node\n",
    "\n",
    "nb_cylce=(np.trace(A4)-np.trace(A2)-2*som)/8 #We apply the formula give above\n",
    "nb_cylce  #we print the number of cycle"
   ]
  },
  {
   "cell_type": "markdown",
   "id": "151538a4",
   "metadata": {},
   "source": [
    "<p> So the total number of cycles of length 4 in our network is 2 </p>"
   ]
  },
  {
   "cell_type": "markdown",
   "id": "915f72dc",
   "metadata": {},
   "source": [
    "# Question 2"
   ]
  },
  {
   "cell_type": "code",
   "execution_count": 16,
   "id": "9d95c67d",
   "metadata": {},
   "outputs": [],
   "source": [
    "#we import the librairie that will help us to manipulate bipartite networks\n",
    "from networkx.algorithms import bipartite "
   ]
  },
  {
   "cell_type": "markdown",
   "id": "2701eeea",
   "metadata": {},
   "source": [
    "## (a) Construct the above graph using NetworkX. You may have a look bipartite "
   ]
  },
  {
   "cell_type": "code",
   "execution_count": 17,
   "id": "2ce9c047",
   "metadata": {},
   "outputs": [],
   "source": [
    "B=nx.Graph() #we create a graph\n",
    "fans=['A','B','C','D','E'] #we create a list containing all our green node\n",
    "teams=[1,2,3,4] #we create a list containing all our red node\n",
    " #we create a list containing all the link between red and green\n",
    "liens=[('A',1),('B',1),('C',1),('C',3),('D',2),('E',3),('E',4)] \n",
    "#We define the position of node for ploting\n",
    "posi_b= {'A':(-1,4), 'B':(-1,3), 'C':(-1,2), 'D':(-1,1),'E':(-1,0), 1:(1,3.5), 2:(1,2.5), 3:(1,1.5), 4:(1,0.5)}\n",
    "B.add_nodes_from(fans, bipartite=0) #we add the first group of node to our graph\n",
    "B.add_nodes_from(teams, bipartite=1)#we add the second group of node to our graph\n",
    "B.add_edges_from(liens) #we add the links of the node to our graph"
   ]
  },
  {
   "cell_type": "code",
   "execution_count": 18,
   "id": "e9fe74c8",
   "metadata": {},
   "outputs": [
    {
     "data": {
      "text/plain": [
       "True"
      ]
     },
     "execution_count": 18,
     "metadata": {},
     "output_type": "execute_result"
    }
   ],
   "source": [
    "#we look is our graph is bipartite\n",
    "bipartite.is_bipartite(B)"
   ]
  },
  {
   "cell_type": "markdown",
   "id": "a7bb466a",
   "metadata": {},
   "source": [
    "<p> The result is \"True\" this means that we have a bipartite networkx</p>"
   ]
  },
  {
   "cell_type": "code",
   "execution_count": 19,
   "id": "092284b4",
   "metadata": {
    "scrolled": true
   },
   "outputs": [
    {
     "data": {
      "image/png": "[encoded data removed]",
      "text/plain": [
       "<Figure size 432x288 with 1 Axes>"
      ]
     },
     "metadata": {},
     "output_type": "display_data"
    }
   ],
   "source": [
    "#we plot the constructed network\n",
    "nx.draw_networkx(B, pos=posi_b, with_labels=True, node_size=1500, node_color='blue')"
   ]
  },
  {
   "cell_type": "markdown",
   "id": "a0380bd5",
   "metadata": {},
   "source": [
    "## (b) Construct its adjacency matrix. Why is it a block-diagonal matrix?"
   ]
  },
  {
   "cell_type": "code",
   "execution_count": 20,
   "id": "381146a4",
   "metadata": {
    "scrolled": true
   },
   "outputs": [
    {
     "name": "stdout",
     "output_type": "stream",
     "text": [
      "[[0 0 0 0 0 1 0 0 0]\n",
      " [0 0 0 0 0 1 0 0 0]\n",
      " [0 0 0 0 0 1 0 1 0]\n",
      " [0 0 0 0 0 0 1 0 0]\n",
      " [0 0 0 0 0 0 0 1 1]\n",
      " [1 1 1 0 0 0 0 0 0]\n",
      " [0 0 0 1 0 0 0 0 0]\n",
      " [0 0 1 0 1 0 0 0 0]\n",
      " [0 0 0 0 1 0 0 0 0]]\n"
     ]
    }
   ],
   "source": [
    "#We construct the adjency matrix of our bipartite network\n",
    "A_B=nx.adjacency_matrix(B).todense()\n",
    "print(A_B)"
   ]
  },
  {
   "cell_type": "markdown",
   "id": "cc3472b8",
   "metadata": {},
   "source": [
    "<p> It is a block diagonal matrix because the network is form of two groups and the elements of each group are not link one to other, so they will form two block containing just zero in the adjency matrix. And due to the fact that there is no node which is related to itselfs</p>"
   ]
  },
  {
   "cell_type": "markdown",
   "id": "e64531cd",
   "metadata": {},
   "source": [
    "## (c) Construct the adjacency matrix of its two projections, on the green and on the red nodes, respectively."
   ]
  },
  {
   "cell_type": "markdown",
   "id": "4818b441",
   "metadata": {},
   "source": [
    "## Green"
   ]
  },
  {
   "cell_type": "code",
   "execution_count": 21,
   "id": "8a8c4ab7",
   "metadata": {},
   "outputs": [
    {
     "data": {
      "image/png": "[encoded data removed]",
      "text/plain": [
       "<Figure size 432x288 with 1 Axes>"
      ]
     },
     "metadata": {},
     "output_type": "display_data"
    }
   ],
   "source": [
    "#We extract the projection of the green nodes\n",
    "green=bipartite.projected_graph(B, fans) \n",
    "#we plot to visualise it\n",
    "nx.draw_networkx(green, with_labels=True, node_color='green', node_size=1000)"
   ]
  },
  {
   "cell_type": "code",
   "execution_count": 22,
   "id": "c6433039",
   "metadata": {
    "scrolled": true
   },
   "outputs": [
    {
     "name": "stdout",
     "output_type": "stream",
     "text": [
      "[[0 1 1 0 0]\n",
      " [1 0 1 0 0]\n",
      " [1 1 0 0 1]\n",
      " [0 0 0 0 0]\n",
      " [0 0 1 0 0]]\n"
     ]
    }
   ],
   "source": [
    "A_green=nx.adjacency_matrix(green).todense() #we construct the adjency matrix\n",
    "print(A_green)"
   ]
  },
  {
   "cell_type": "markdown",
   "id": "807b0a45",
   "metadata": {},
   "source": [
    "## Red"
   ]
  },
  {
   "cell_type": "code",
   "execution_count": 23,
   "id": "ae7b7661",
   "metadata": {},
   "outputs": [
    {
     "data": {
      "image/png": "[encoded data removed]",
      "text/plain": [
       "<Figure size 432x288 with 1 Axes>"
      ]
     },
     "metadata": {},
     "output_type": "display_data"
    }
   ],
   "source": [
    "red=bipartite.projected_graph(B, teams) #We extract the projection of the green nodes\n",
    "nx.draw_networkx(red, with_labels=True, node_shape='s', \\\n",
    "                 node_color='red', node_size=1000) #we plot to visualise it"
   ]
  },
  {
   "cell_type": "code",
   "execution_count": 24,
   "id": "ffaf5dc5",
   "metadata": {},
   "outputs": [
    {
     "name": "stdout",
     "output_type": "stream",
     "text": [
      "[[0 0 1 0]\n",
      " [0 0 0 0]\n",
      " [1 0 0 1]\n",
      " [0 0 1 0]]\n"
     ]
    }
   ],
   "source": [
    "A_red=nx.adjacency_matrix(red).todense() #we construct the adjency matrix\n",
    "print(A_red)"
   ]
  },
  {
   "cell_type": "markdown",
   "id": "f3738bb9",
   "metadata": {},
   "source": [
    "## (d) Calculate the average degree of the green nodes and the average degree of the red nodes in the bipartite network."
   ]
  },
  {
   "cell_type": "code",
   "execution_count": 25,
   "id": "8169564a",
   "metadata": {},
   "outputs": [
    {
     "data": {
      "text/plain": [
       "1.4"
      ]
     },
     "execution_count": 25,
     "metadata": {},
     "output_type": "execute_result"
    }
   ],
   "source": [
    "k_green=0 #we initialise the the total number of degree of the green node at zero\n",
    "for i in fans: #we take each of the green node\n",
    "    k_green=k_green+B.degree('{}'.format(i)) #We compute his degree and we add it to the total degree\n",
    "\n",
    "#we devide the total number of degree by the total number of node to have the average degree\n",
    "Average_degree_green=k_green/len(fans) \n",
    "Average_degree_green"
   ]
  },
  {
   "cell_type": "markdown",
   "id": "9b941826",
   "metadata": {},
   "source": [
    "<p> This show that in average a node of the green side is connected to 1 (1.4) node of the red side </p>"
   ]
  },
  {
   "cell_type": "code",
   "execution_count": 26,
   "id": "f40d5b5c",
   "metadata": {
    "scrolled": true
   },
   "outputs": [
    {
     "data": {
      "text/plain": [
       "1.75"
      ]
     },
     "execution_count": 26,
     "metadata": {},
     "output_type": "execute_result"
    }
   ],
   "source": [
    "k_red=0 #we initialise the the total number of degree of the red node at zero\n",
    "for i in teams: #we take each of the red node\n",
    "    k_red=k_red+B.degree(i)#We compute his degree and we add it to the total degree\n",
    "\n",
    "#we devide the total number of degree by the total number of node to have the average degree\n",
    "Average_degree_red=k_red/len(teams)\n",
    "Average_degree_red"
   ]
  },
  {
   "cell_type": "markdown",
   "id": "4f28f806",
   "metadata": {},
   "source": [
    "<p> This show that in average a node of the red side is connected to 2 (1.75) node of the green side </p>"
   ]
  },
  {
   "cell_type": "markdown",
   "id": "5b7f04eb",
   "metadata": {},
   "source": [
    "## (e) Calculate the average degree in each of the two network projections. "
   ]
  },
  {
   "cell_type": "markdown",
   "id": "b51318f7",
   "metadata": {},
   "source": [
    "## Green_projection"
   ]
  },
  {
   "cell_type": "code",
   "execution_count": 27,
   "id": "cccfa05a",
   "metadata": {},
   "outputs": [
    {
     "data": {
      "text/plain": [
       "1.6"
      ]
     },
     "execution_count": 27,
     "metadata": {},
     "output_type": "execute_result"
    }
   ],
   "source": [
    "k_green=0 #we initialise the the total number of degree of the green_prjection node at zero\n",
    "for i in green.nodes:#we take each of the green projection node\n",
    "    k_green=k_green+(green.degree('{}'.format(i)))#We compute his degree and we add it to the total degree\n",
    "\n",
    "#we devide the total number of degree by the total number of node to have the average degree\n",
    "Average_degree=k_green/green.number_of_nodes()\n",
    "Average_degree"
   ]
  },
  {
   "cell_type": "markdown",
   "id": "01900dca",
   "metadata": {},
   "source": [
    "<p> This mean that for each node of the green side there exist in average 1 (1.6) other node of the green side with who they are connect to the same node in the red group </p> "
   ]
  },
  {
   "cell_type": "markdown",
   "id": "29d386d2",
   "metadata": {},
   "source": [
    "## Red_projection"
   ]
  },
  {
   "cell_type": "code",
   "execution_count": 28,
   "id": "fd070f81",
   "metadata": {},
   "outputs": [
    {
     "data": {
      "text/plain": [
       "1.0"
      ]
     },
     "execution_count": 28,
     "metadata": {},
     "output_type": "execute_result"
    }
   ],
   "source": [
    "k_red=0#we initialise the the total number of degree of the red projection node at zero\n",
    "for j in red.nodes:#we take each of the red projection node\n",
    "    k_red=k_red+(red.degree(j))#We compute his degree and we add it to the total degree\n",
    "\n",
    "#we devide the total number of degree by the total number of node to have the average degree\n",
    "Average_degree_red=k_red/red.number_of_nodes()\n",
    "Average_degree_red"
   ]
  },
  {
   "cell_type": "markdown",
   "id": "9efac0d6",
   "metadata": {},
   "source": [
    "<p> This mean that for each node of the red side there exist in average 1 other node of the red side with who they are connect to the same node in the green group</p> "
   ]
  },
  {
   "cell_type": "markdown",
   "id": "bc5a7239",
   "metadata": {},
   "source": [
    "## Is it surprising that the values are different from those obtained in point (c)?"
   ]
  },
  {
   "cell_type": "markdown",
   "id": "65e66aa8",
   "metadata": {},
   "source": [
    "<p> Is it not surprising that the value is different of the one calculate in the previous question because the average degree of the projection show how many node can be regrouped in respect to their relation with a common element in the other group. </p>"
   ]
  }
 ],
 "metadata": {
  "kernelspec": {
   "display_name": "Python 3 (ipykernel)",
   "language": "python",
   "name": "python3"
  },
  "language_info": {
   "codemirror_mode": {
    "name": "ipython",
    "version": 3
   },
   "file_extension": ".py",
   "mimetype": "text/x-python",
   "name": "python",
   "nbconvert_exporter": "python",
   "pygments_lexer": "ipython3",
   "version": "3.9.12"
  }
 },
 "nbformat": 4,
 "nbformat_minor": 5
}
